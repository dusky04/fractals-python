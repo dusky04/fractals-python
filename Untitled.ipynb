{
 "cells": [
  {
   "cell_type": "code",
   "execution_count": null,
   "id": "04e944ff-fe1a-40ad-be61-93182047b828",
   "metadata": {},
   "outputs": [],
   "source": [
    "import matplotlib.cm as cm\n",
    "import matplotlib.pyplot as plt\n",
    "import numpy as np\n",
    "from numba import njit  # type: ignore\n",
    "\n",
    "\n",
    "class JuliaSet:\n",
    "    def __init__(self, f, c, height, width, max_iters=100):\n",
    "        self._height = height\n",
    "        self._width = width\n",
    "        self.max_iters = max_iters\n",
    "        self.js = None\n",
    "        self.f = f\n",
    "        self.c = c\n",
    "\n",
    "    def get_julia_set(self, x_min=-1.8, x_max=1.8, y_min=-1.8, y_max=1.8):\n",
    "        x = np.linspace(x_min, x_max, self._width)\n",
    "        y = np.linspace(y_min, y_max, self._height)\n",
    "        xs, ys = np.meshgrid(x, y)\n",
    "\n",
    "        z = xs + ys * 1j\n",
    "\n",
    "        julia_set = self.max_iters + np.zeros(z.shape)\n",
    "\n",
    "        for i in range(self.max_iters):\n",
    "            z = self.f(z, self.c)\n",
    "            diverged = np.abs(z) >= 4\n",
    "            div_now = diverged & (julia_set == self.max_iters)\n",
    "            julia_set[div_now] = i\n",
    "            z[div_now] = 4\n",
    "\n",
    "        self.js = julia_set\n",
    "\n",
    "    def show_julia_set(\n",
    "        self,\n",
    "        cmap=\"hot\",\n",
    "        x_min=-1.8,\n",
    "        x_max=1.8,\n",
    "        y_min=-1.8,\n",
    "        y_max=1.8,\n",
    "        extent=(-2, 2, -2, 2),\n",
    "    ):\n",
    "        self.get_julia_set(x_min, y_min, x_max, y_max)\n",
    "\n",
    "        plt.figure(figsize=(8, 8))\n",
    "        plt.imshow(self.js, cmap=cmap, extent=extent)  # type: ignore\n",
    "        plt.tight_layout()\n",
    "        plt.axis(\"off\")\n",
    "        plt.show()\n",
    "        plt.close()\n",
    "\n",
    "    def save_julia_set(self, fname, cmap=\"hot\"):\n",
    "        if not self.js:\n",
    "            self.get_julia_set()\n",
    "        plt.imsave(fname=fname, arr=self.js, cmap=cmap)  # type: ignore"
   ]
  }
 ],
 "metadata": {
  "kernelspec": {
   "display_name": "Python 3 (ipykernel)",
   "language": "python",
   "name": "python3"
  },
  "language_info": {
   "codemirror_mode": {
    "name": "ipython",
    "version": 3
   },
   "file_extension": ".py",
   "mimetype": "text/x-python",
   "name": "python",
   "nbconvert_exporter": "python",
   "pygments_lexer": "ipython3",
   "version": "3.12.3"
  }
 },
 "nbformat": 4,
 "nbformat_minor": 5
}
